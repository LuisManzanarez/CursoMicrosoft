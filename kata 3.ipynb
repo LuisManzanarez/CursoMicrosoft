{
 "cells": [
  {
   "cell_type": "code",
   "execution_count": 47,
   "metadata": {},
   "outputs": [
    {
     "name": "stdout",
     "output_type": "stream",
     "text": [
      "Alterta, se acerca asteroide con velocidad de 49km/s\n"
     ]
    }
   ],
   "source": [
    "# Alerta de velocidad peligrosa de asteroides\n",
    "asteroide = 49\n",
    "if asteroide > 25:\n",
    "        print(\"Alterta, se acerca asteroide con velocidad de \"+ str(asteroide) + \"km/s\") \n",
    "else:\n",
    "     print('sin amenazas')"
   ]
  },
  {
   "cell_type": "code",
   "execution_count": 52,
   "metadata": {},
   "outputs": [
    {
     "name": "stdout",
     "output_type": "stream",
     "text": [
      " busca en el cielo la estrella fugas\n"
     ]
    }
   ],
   "source": [
    "# Alerta de estrella fugas\n",
    "Asteroide = 21\n",
    "if Asteroide > 20:\n",
    "    print (' busca en el cielo la estrella fugas')\n",
    "elif asteroide == 20:\n",
    "    print ('busca en el cielo la estrella fugas')\n",
    "else:\n",
    "    print(' nada que buscar ')\n"
   ]
  },
  {
   "cell_type": "code",
   "execution_count": 55,
   "metadata": {},
   "outputs": [
    {
     "name": "stdout",
     "output_type": "stream",
     "text": [
      "busca en el cielo la estrella fugas\n"
     ]
    }
   ],
   "source": [
    "velocidad_asteroide = 25\n",
    "tamano_asteroide = 40\n",
    "if velocidad_asteroide > 25 and tamano_asteroide > 25:\n",
    "     print('¡Alerta, Un asteroide se acerca a la Tierra!')\n",
    "elif velocidad_asteroide >= 20:\n",
    "    print('busca en el cielo la estrella fugas')\n",
    "elif tamano_asteroide < 25:\n",
    "    print(' nada que buscar')\n",
    "else:\n",
    "    print(' nada que buscar')"
   ]
  }
 ],
 "metadata": {
  "interpreter": {
   "hash": "04af6618843c2723262216c32488aebe5d7a8aeb76382f80f12b6cf9559234c2"
  },
  "kernelspec": {
   "display_name": "Python 3.10.2 64-bit",
   "language": "python",
   "name": "python3"
  },
  "language_info": {
   "codemirror_mode": {
    "name": "ipython",
    "version": 3
   },
   "file_extension": ".py",
   "mimetype": "text/x-python",
   "name": "python",
   "nbconvert_exporter": "python",
   "pygments_lexer": "ipython3",
   "version": "3.10.2"
  },
  "orig_nbformat": 4
 },
 "nbformat": 4,
 "nbformat_minor": 2
}
