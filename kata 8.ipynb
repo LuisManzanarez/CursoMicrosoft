{
 "cells": [
  {
   "cell_type": "code",
   "execution_count": 1,
   "metadata": {},
   "outputs": [
    {
     "name": "stdout",
     "output_type": "stream",
     "text": [
      "marte tiene 2 lunas\n",
      "marte tiene una circunferencia de 6752 km\n"
     ]
    }
   ],
   "source": [
    "#diccionario\n",
    "planet = {\n",
    "    'name': 'marte',\n",
    "    'moons': 2\n",
    "}\n",
    "#actualizacion de datos\n",
    "planet['circumference (km)'] = {\n",
    "    'polar': 6752,\n",
    "    'equatorial': 6792\n",
    "}\n",
    "print(f'{planet[\"name\"]} tiene {planet[\"moons\"]} lunas')\n",
    "print(f'{planet[\"name\"]} tiene una circunferencia de {planet[\"circumference (km)\"][\"polar\"]} km')"
   ]
  }
 ],
 "metadata": {
  "interpreter": {
   "hash": "04af6618843c2723262216c32488aebe5d7a8aeb76382f80f12b6cf9559234c2"
  },
  "kernelspec": {
   "display_name": "Python 3.10.2 64-bit",
   "language": "python",
   "name": "python3"
  },
  "language_info": {
   "codemirror_mode": {
    "name": "ipython",
    "version": 3
   },
   "file_extension": ".py",
   "mimetype": "text/x-python",
   "name": "python",
   "nbconvert_exporter": "python",
   "pygments_lexer": "ipython3",
   "version": "3.10.2"
  },
  "orig_nbformat": 4
 },
 "nbformat": 4,
 "nbformat_minor": 2
}
