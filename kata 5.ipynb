{
 "cells": [
  {
   "cell_type": "markdown",
   "metadata": {},
   "source": [
    "Ejercicio 1"
   ]
  },
  {
   "cell_type": "code",
   "execution_count": 3,
   "metadata": {},
   "outputs": [],
   "source": [
    "tierra = 149597870\n",
    "jupiter = 778547200"
   ]
  },
  {
   "cell_type": "code",
   "execution_count": 33,
   "metadata": {},
   "outputs": [
    {
     "name": "stdout",
     "output_type": "stream",
     "text": [
      "628949330km\n"
     ]
    }
   ],
   "source": [
    "distancia_km = jupiter - tierra\n",
    "print(str(distancia_km) +'km' )"
   ]
  },
  {
   "cell_type": "code",
   "execution_count": 35,
   "metadata": {},
   "outputs": [
    {
     "name": "stdout",
     "output_type": "stream",
     "text": [
      "390577533.93mi\n"
     ]
    }
   ],
   "source": [
    "distancia_mi = distancia_km * 0.621\n",
    "print(str(distancia_mi) + 'mi')"
   ]
  },
  {
   "cell_type": "markdown",
   "metadata": {},
   "source": [
    "Ejercicio 2"
   ]
  },
  {
   "cell_type": "code",
   "execution_count": 9,
   "metadata": {},
   "outputs": [
    {
     "name": "stdout",
     "output_type": "stream",
     "text": [
      "31236300.0\n"
     ]
    }
   ],
   "source": [
    "planeta1 = 57900000\n",
    "planeta2 = 108200000\n",
    "planeta1 = int(planeta1)\n",
    "planeta2 = int(planeta2)\n",
    "\n",
    "distancia_km = planeta1 - planeta2\n",
    "distancia_mi = distancia_km * 0.621\n",
    "print(abs(distancia_mi))"
   ]
  }
 ],
 "metadata": {
  "interpreter": {
   "hash": "8798395c9b6447bc34b19cafbb711f03bdb7084dcc28e6fd547df8abf07f93de"
  },
  "kernelspec": {
   "display_name": "Python 3.10.2 64-bit (windows store)",
   "language": "python",
   "name": "python3"
  },
  "language_info": {
   "codemirror_mode": {
    "name": "ipython",
    "version": 3
   },
   "file_extension": ".py",
   "mimetype": "text/x-python",
   "name": "python",
   "nbconvert_exporter": "python",
   "pygments_lexer": "ipython3",
   "version": "3.10.2"
  },
  "orig_nbformat": 4
 },
 "nbformat": 4,
 "nbformat_minor": 2
}
